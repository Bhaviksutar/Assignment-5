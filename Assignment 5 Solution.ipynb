{
 "cells": [
  {
   "cell_type": "markdown",
   "id": "38f0ba52",
   "metadata": {},
   "source": [
    "\n",
    "# Assignment No. 5"
   ]
  },
  {
   "cell_type": "markdown",
   "id": "763dc495",
   "metadata": {},
   "source": [
    "#Question No.1:- What does an empty dictionary's code look like?\n",
    "\n",
    "Ans- \n",
    "{} this is an empty dictionary\n"
   ]
  },
  {
   "cell_type": "markdown",
   "id": "f90b2645",
   "metadata": {},
   "source": [
    "#Question No.2:- What is the value of a dictionary value with the key 'foo' and the value 42?\n",
    "\n",
    "Ans- \n",
    "In the dictionary value 42 is the value"
   ]
  },
  {
   "cell_type": "markdown",
   "id": "f00214ef",
   "metadata": {},
   "source": [
    "#Question No.3:- What is the most significant distinction between a dictionary and a list?\n",
    "\n",
    "Ans-\n",
    "A list is an ordered sequence of objects, whereas dictionaries are unordered sets. \n",
    "\n",
    "the main difference is that items in dictionaries are accessed via keys and not via their position."
   ]
  },
  {
   "cell_type": "markdown",
   "id": "f4db68c8",
   "metadata": {},
   "source": [
    "#Question No.4:- What happens if you try to access spam['foo'] if spam is {'bar': 100}?\n",
    "\n",
    "Ans-\n",
    "While accessing the given code as it will give us an key error. As the key is bar and the value is 100"
   ]
  },
  {
   "cell_type": "markdown",
   "id": "074d6b4e",
   "metadata": {},
   "source": [
    "#Question No.5:- If a dictionary is stored in spam, what is the difference between the expressions 'cat' in spam and 'cat' in spam.keys()?\n",
    "\n",
    "Ans- \n",
    "There is no difference. The in operator checks whether a value exists as a key in the dictionary."
   ]
  },
  {
   "cell_type": "markdown",
   "id": "004ff491",
   "metadata": {},
   "source": [
    "#Question No.6:- There is no difference. The in operator checks whether a value exists as a key in the dictionary.\n",
    "\n",
    "Ans-\n",
    "'cat' in spam checks whether there is a 'cat' key in the dictionary\n",
    "\n",
    "while 'cat' in spam.values() checks whether there is a value 'cat' for one of the keys in spam."
   ]
  },
  {
   "cell_type": "markdown",
   "id": "8d9c107e",
   "metadata": {},
   "source": [
    "#Question No.7:- What is a shortcut for the following code?\n",
    "\"\"\"if 'color' not in spam:\n",
    "    spam['color'] = 'black'\"\"\"\n",
    "Ans-\n",
    "    \n",
    "The shortcut for given code is:\n",
    "    \n",
    "    spam.setdefault('color', 'black')\n"
   ]
  },
  {
   "cell_type": "markdown",
   "id": "edf7541b",
   "metadata": {},
   "source": [
    "#Question No.8:- How do you \"pretty print\" dictionary values using which module and function?\n",
    "\n",
    "Ans-\n",
    "We can use pprint.pprint()"
   ]
  },
  {
   "cell_type": "code",
   "execution_count": null,
   "id": "712d24f1",
   "metadata": {},
   "outputs": [],
   "source": []
  }
 ],
 "metadata": {
  "kernelspec": {
   "display_name": "Python 3 (ipykernel)",
   "language": "python",
   "name": "python3"
  },
  "language_info": {
   "codemirror_mode": {
    "name": "ipython",
    "version": 3
   },
   "file_extension": ".py",
   "mimetype": "text/x-python",
   "name": "python",
   "nbconvert_exporter": "python",
   "pygments_lexer": "ipython3",
   "version": "3.9.7"
  }
 },
 "nbformat": 4,
 "nbformat_minor": 5
}
